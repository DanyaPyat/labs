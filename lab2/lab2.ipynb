{
 "cells": [
  {
   "cell_type": "markdown",
   "metadata": {},
   "source": [
    "## Підготовка та Аналіз даних\n",
    "___\n",
    "# **Лабораторна робота №2**\n",
    "___\n",
    "#### Наука про дані: підготовчий етап\n",
    "___\n",
    "\n",
    "**Мета роботи:**  \n",
    "Ознайомитися з основними кроками по роботі з даними – workflow від постановки задачі до написання пояснювальної записки, зрозуміти постановку задачі та природу даних, над якими виконується аналітичні операції.\n",
    "\n",
    "**Основні поняття:**\n",
    "\n",
    "- Сирі дані (raw data)\n",
    "- Підготовка даних (data preparation)\n",
    "***\n",
    "*Роботу виконав:*\n",
    "ФБ-35 Пятілєткін Данііл"
   ]
  },
  {
   "cell_type": "markdown",
   "metadata": {},
   "source": [
    "Import libs:"
   ]
  },
  {
   "cell_type": "code",
   "execution_count": null,
   "metadata": {},
   "outputs": [
    {
     "name": "stdout",
     "output_type": "stream",
     "text": [
      "Libs imported\n"
     ]
    }
   ],
   "source": [
    "from datetime import datetime\n",
    "import requests\n",
    "import os\n",
    "import pandas as pd\n",
    "import matplotlib.pyplot as plt\n",
    "\n",
    "print(\"Libs imported\")"
   ]
  },
  {
   "cell_type": "markdown",
   "metadata": {},
   "source": [
    "Для кожної із адміністративних одиниць України завантажити тестові\n",
    "структуровані файли, що містять значення VHI-індексу. Ця процедура має бути\n",
    "автоматизована, параметром процедури має бути індекс (номер) області. При\n",
    "зберіганні файлу до його імені потрібно додати дату та час завантаження.\n",
    "\n",
    "Передбачити повторні запуски скрипту, довантаження нових даних та колізію\n",
    "даних;"
   ]
  },
  {
   "cell_type": "code",
   "execution_count": 53,
   "metadata": {},
   "outputs": [
    {
     "name": "stdout",
     "output_type": "stream",
     "text": [
      "Data for 1 saved to Data\\vhi_1_20250311_135112.csv\n",
      "Data for 2 saved to Data\\vhi_2_20250311_135113.csv\n",
      "Data for 3 saved to Data\\vhi_3_20250311_135114.csv\n",
      "Data for 4 saved to Data\\vhi_4_20250311_135115.csv\n",
      "Data for 5 saved to Data\\vhi_5_20250311_135116.csv\n",
      "Data for 6 saved to Data\\vhi_6_20250311_135118.csv\n",
      "Data for 7 saved to Data\\vhi_7_20250311_135118.csv\n",
      "Data for 8 saved to Data\\vhi_8_20250311_135119.csv\n",
      "Data for 9 saved to Data\\vhi_9_20250311_135120.csv\n",
      "Data for 10 saved to Data\\vhi_10_20250311_135121.csv\n",
      "Data for 11 saved to Data\\vhi_11_20250311_135122.csv\n",
      "Data for 12 saved to Data\\vhi_12_20250311_135123.csv\n",
      "Data for 13 saved to Data\\vhi_13_20250311_135124.csv\n",
      "Data for 14 saved to Data\\vhi_14_20250311_135124.csv\n",
      "Data for 15 saved to Data\\vhi_15_20250311_135125.csv\n",
      "Data for 16 saved to Data\\vhi_16_20250311_135126.csv\n",
      "Data for 17 saved to Data\\vhi_17_20250311_135127.csv\n",
      "Data for 18 saved to Data\\vhi_18_20250311_135128.csv\n",
      "Data for 19 saved to Data\\vhi_19_20250311_135129.csv\n",
      "Data for 20 saved to Data\\vhi_20_20250311_135130.csv\n",
      "Data for 21 saved to Data\\vhi_21_20250311_135130.csv\n",
      "Data for 22 saved to Data\\vhi_22_20250311_135131.csv\n",
      "Data for 23 saved to Data\\vhi_23_20250311_135132.csv\n",
      "Data for 24 saved to Data\\vhi_24_20250311_135133.csv\n",
      "Data for 25 saved to Data\\vhi_25_20250311_135134.csv\n",
      "Data for 26 saved to Data\\vhi_26_20250311_135135.csv\n",
      "Data for 27 saved to Data\\vhi_27_20250311_135136.csv\n"
     ]
    }
   ],
   "source": [
    "def download_vhi_data(province_id):\n",
    "    url = f\"https://www.star.nesdis.noaa.gov/smcd/emb/vci/VH/get_TS_admin.php?country=UKR&provinceID={province_id}&year1=1981&year2=2024&type=Mean\"\n",
    "    timestamp = datetime.now().strftime(\"%Y%m%d_%H%M%S\")\n",
    "    folder = \"Data\"\n",
    "    if not os.path.exists(folder):\n",
    "        os.makedirs(folder)\n",
    "    filename = os.path.join(folder, f\"vhi_{province_id}_{timestamp}.csv\")\n",
    "    \n",
    "    response = requests.get(url)\n",
    "    with open(filename, 'wb') as f:\n",
    "        f.write(response.content)\n",
    "    print(f\"Data for {province_id} saved to {filename}\")\n",
    "\n",
    "for province_id in range(1, 28):\n",
    "    download_vhi_data(province_id)"
   ]
  },
  {
   "cell_type": "markdown",
   "metadata": {},
   "source": [
    "Зчитати завантажені текстові файли у фрейм\n",
    "(https://pandas.pydata.org/docs/reference/api/pandas.DataFrame.html) (детальніше\n",
    "про роботу із фреймами буде розказано у подальших лабораторних роботах).\n",
    "Імена стовбців фрейму мають бути змістовними та легкими для сприйняття (не\n",
    "повинно бути спеціалізованих символів, пробілів тощо). Ця задача має бути\n",
    "реалізована у вигляді окремої процедури, яка на вхід приймає шлях до\n",
    "директорії, в якій зберігаються файли;"
   ]
  },
  {
   "cell_type": "code",
   "execution_count": 54,
   "metadata": {},
   "outputs": [
    {
     "name": "stdout",
     "output_type": "stream",
     "text": [
      "       year  week    SMN     SMT    VCI    TCI    VHI  province_id\n",
      "0      1982   1.0  0.053  260.31  45.01  39.46  42.23            1\n",
      "1      2011  11.0  0.117  277.33  51.92  27.97  39.95            1\n",
      "2      2011  10.0  0.102  274.58  50.96  31.36  41.16            1\n",
      "3      2011   9.0  0.086  271.31  47.97  33.76  40.87            1\n",
      "4      2011   8.0  0.071  268.21  43.15  36.55  39.85            1\n",
      "...     ...   ...    ...     ...    ...    ...    ...          ...\n",
      "59044  1996  34.0  0.386  291.77  46.14  73.42  59.78           27\n",
      "59045  1996  35.0  0.371  290.30  45.98  77.97  61.97           27\n",
      "59046  1996  36.0  0.353  288.11  46.79  86.58  66.69           27\n",
      "59047  1996  30.0  0.392  293.19  32.80  73.41  53.10           27\n",
      "59048  1982   1.0  0.083  261.70  57.78  41.22  49.50           27\n",
      "\n",
      "[59049 rows x 8 columns]\n"
     ]
    }
   ],
   "source": [
    "def read_data(dir='Data'):\n",
    "    headers = ['year', 'week', 'SMN', 'SMT', 'VCI', 'TCI', 'VHI','smth']\n",
    "    all_data = pd.DataFrame()\n",
    "    for filename in os.listdir(dir):\n",
    "        if not filename.startswith(\"vhi_\") or not filename.endswith(\".csv\"):\n",
    "            continue\n",
    "        try:\n",
    "            province_id = filename.split(\"_\")[1]\n",
    "            file_path = os.path.join(dir, filename)\n",
    "            df = pd.read_csv(file_path, header=1, names=headers)\n",
    "            df = df[df['VHI'] != -1]\n",
    "            df['year'] = df['year'].str.replace(r'<.*?>', '', regex=True)\n",
    "            df = df[~df['year'].str.contains('</pre></tt>')]\n",
    "            df['province_id'] = province_id\n",
    "            df.drop('smth', axis=1, inplace=True)\n",
    "            all_data = pd.concat([all_data, df]).drop_duplicates().reset_index(drop=True)\n",
    "        except Exception as err:\n",
    "            print(f\"Error {filename}: {err}\")\n",
    "        all_data = pd.concat([all_data, df]).drop_duplicates().reset_index(drop=True)\n",
    "    all_data['province_id'] = all_data['province_id'].astype(int)\n",
    "    all_data = all_data.sort_values(by=['province_id']).reset_index(drop=True)\n",
    "    all_data.to_csv('out.csv')\n",
    "    return all_data\n",
    "\n",
    "df = read_data()\n",
    "print(df)\n",
    "    "
   ]
  },
  {
   "cell_type": "markdown",
   "metadata": {},
   "source": [
    "Реалізувати окрему процедуру, яка змінить індекси областей, які використані на\n",
    "порталі NOAA (за англійською абеткою) на наступні, за українською (виключно\n",
    "старі індекси на нові):"
   ]
  },
  {
   "cell_type": "code",
   "execution_count": 57,
   "metadata": {},
   "outputs": [
    {
     "name": "stdout",
     "output_type": "stream",
     "text": [
      "       year  week    SMN     SMT    VCI    TCI    VHI  province_id  \\\n",
      "0             NaN    NaN     NaN    NaN    NaN    NaN           24   \n",
      "1      2010  48.0  0.099  268.36  59.27  39.63  49.45           24   \n",
      "2      2011   1.0  0.042  256.07  30.13  54.29  42.21           24   \n",
      "3      2003  32.0  0.427  294.98  69.73  68.78  69.25           24   \n",
      "4      2010  49.0  0.079  264.23  53.74  49.43  51.59           24   \n",
      "...     ...   ...    ...     ...    ...    ...    ...          ...   \n",
      "59044  1996  22.0  0.376  301.64  55.41  16.39  35.90            4   \n",
      "59045  1996  21.0  0.372  300.86  52.23  14.62  33.42            4   \n",
      "59046  1996  35.0  0.245  294.89  37.74  89.03  63.38            4   \n",
      "59047  1996  26.0  0.323  306.11  47.84  10.32  29.08            4   \n",
      "59048  1996  34.0  0.236  297.10  33.63  77.93  55.78            4   \n",
      "\n",
      "           region_name  \n",
      "0            Вінницька  \n",
      "1            Вінницька  \n",
      "2            Вінницька  \n",
      "3            Вінницька  \n",
      "4            Вінницька  \n",
      "...                ...  \n",
      "59044  Республіка Крим  \n",
      "59045  Республіка Крим  \n",
      "59046  Республіка Крим  \n",
      "59047  Республіка Крим  \n",
      "59048  Республіка Крим  \n",
      "\n",
      "[59049 rows x 9 columns]\n"
     ]
    }
   ],
   "source": [
    "region_map = {\n",
    "        24: \"Вінницька\", 25: \"Волинська\", 5: \"Дніпропетровська\", 6: \"Донецька\",\n",
    "        27: \"Житомирська\", 23: \"Закарпатська\", 26: \"Запорізька\", 7: \"Івано-Франківська\",\n",
    "        11: \"Київська\", 12:\"Київ\", 13: \"Кіровоградська\", 14: \"Луганська\", 15: \"Львівська\",\n",
    "        16: \"Миколаївська\", 17: \"Одеська\", 18: \"Полтавська\", 19: \"Рівненська\", 20: \"Севастополь\",\n",
    "        21: \"Сумська\", 22: \"Тернопільська\", 8: \"Харківська\", 9: \"Херсонська\",\n",
    "        10: \"Хмельницька\", 1: \"Черкаська\", 2: \"Чернігівська\", 3: \"Чернівецька\",\n",
    "        4: \"Республіка Крим\"\n",
    "    }\n",
    "\n",
    "ordered_regions = [\n",
    "    \"Вінницька\", \"Волинська\", \"Дніпропетровська\", \"Донецька\", \"Житомирська\",\n",
    "    \"Закарпатська\", \"Запорізька\", \"Івано-Франківська\", \"Київська\", \"Київ\",\n",
    "    \"Кіровоградська\", \"Луганська\", \"Львівська\", \"Миколаївська\", \"Одеська\", \"Полтавська\",\n",
    "    \"Рівненська\", \"Сумська\", \"Тернопільська\", \"Харківська\", \"Херсонська\", \"Хмельницька\",\n",
    "    \"Черкаська\", \"Чернівецька\", \"Чернігівська\", \"Севастополь\", \"Республіка Крим\"\n",
    "]\n",
    "\n",
    "def map_region_names(df, id_column=\"province_id\"):\n",
    "    df[\"region_name\"] = df[id_column].map(region_map)\n",
    "    df[\"sort_order\"] = df[\"region_name\"].apply(lambda x: ordered_regions.index(x) if x in ordered_regions else len(ordered_regions))\n",
    "    df = df.sort_values(by=[\"sort_order\"]).drop(columns=[\"sort_order\"]).reset_index(drop=True)\n",
    "    \n",
    "    return df\n",
    "\n",
    "df = map_region_names(df)\n",
    "df.to_csv(\"out.csv\")\n",
    "print(df)"
   ]
  },
  {
   "cell_type": "markdown",
   "metadata": {},
   "source": [
    "Реалізувати процедури для формування вибірок наступного виду\n",
    "(включаючи елементи аналізу):\n",
    "- Ряд VHI для області за вказаний рік;\n",
    "- Пошук екстремумів (min та max) для вказаних областей та років,\n",
    "середнього, медіани;\n",
    "- Ряд VHI за вказаний діапазон років для вказаних областей;\n",
    "- Для всього набору даних виявити роки, протягом яких екстремальні\n",
    "посухи торкнулися більше вказаного відсотка областей по Україні (20%\n",
    "областей - 5 областей з 25). Повернути роки, назви областей з\n",
    "екстремальними посухами та значення VHI;"
   ]
  },
  {
   "cell_type": "code",
   "execution_count": 64,
   "metadata": {},
   "outputs": [
    {
     "name": "stdout",
     "output_type": "stream",
     "text": [
      "     year    VHI\n",
      "137  2013  42.01\n",
      "138  2013  49.01\n",
      "139  2013  54.76\n",
      "140  2013  57.43\n",
      "141  2013  57.59\n",
      "142  2013  59.40\n",
      "143  2013  60.13\n",
      "144  2013  60.46\n",
      "145  2013  61.08\n",
      "146  2013  58.95\n",
      "147  2013  58.13\n",
      "148  2013  59.06\n",
      "149  2013  61.87\n",
      "150  2013  63.09\n",
      "151  2013  52.05\n",
      "152  2013  63.58\n",
      "153  2013  62.04\n",
      "154  2013  60.82\n",
      "155  2013  61.14\n",
      "156  2013  59.56\n",
      "157  2013  55.32\n",
      "158  2013  51.70\n",
      "159  2013  49.54\n",
      "160  2013  46.67\n",
      "161  2013  43.64\n",
      "162  2013  41.93\n",
      "163  2013  42.26\n",
      "164  2013  45.42\n",
      "165  2013  49.49\n",
      "166  2013  50.42\n",
      "167  2013  63.41\n",
      "168  2013  51.39\n",
      "169  2013  33.69\n",
      "185  2013  36.34\n",
      "186  2013  32.92\n",
      "195  2013  48.24\n",
      "196  2013  48.82\n",
      "197  2013  49.35\n",
      "198  2013  48.23\n",
      "199  2013  45.64\n",
      "200  2013  41.57\n",
      "202  2013  50.53\n",
      "203  2013  51.36\n",
      "204  2013  49.93\n",
      "238  2013  47.56\n",
      "240  2013  47.93\n",
      "241  2013  50.45\n",
      "242  2013  53.10\n",
      "243  2013  55.40\n",
      "244  2013  55.61\n",
      "245  2013  53.08\n",
      "246  2013  51.73\n"
     ]
    }
   ],
   "source": [
    "#Ряд VHI для області за вказаний рік\n",
    "def vhi_by_region_and_year(df, region_name, year):\n",
    "    result = df[(df['region_name'] == region_name) & (df['year'] == year)][['year', 'VHI']]\n",
    "    return result\n",
    "\n",
    "vhi_data = vhi_by_region_and_year(df, \"Вінницька\", '2013')\n",
    "print(vhi_data)"
   ]
  },
  {
   "cell_type": "code",
   "execution_count": 67,
   "metadata": {},
   "outputs": [
    {
     "name": "stdout",
     "output_type": "stream",
     "text": [
      "{'min': 33.55, 'max': 71.59, 'mean': 51.23586538461538, 'median': 50.23}\n"
     ]
    }
   ],
   "source": [
    "#Пошук екстремумів (min та max) для вказаних областей та років, середнього, медіани\n",
    "def extremes_and_stats(df, regions, years):\n",
    "    filtered_df = df[(df['region_name'].isin(regions)) & (df['year'].isin(years))]\n",
    "    \n",
    "    min_vhi = filtered_df['VHI'].min()\n",
    "    max_vhi = filtered_df['VHI'].max()\n",
    "    mean_vhi = filtered_df['VHI'].mean()\n",
    "    median_vhi = filtered_df['VHI'].median()\n",
    "    \n",
    "    return {\n",
    "        'min': min_vhi,\n",
    "        'max': max_vhi,\n",
    "        'mean': mean_vhi,\n",
    "        'median': median_vhi\n",
    "    }\n",
    "\n",
    "stats = extremes_and_stats(df, [\"Вінницька\", \"Волинська\"], ['2020', '2021'])\n",
    "print(stats)"
   ]
  },
  {
   "cell_type": "code",
   "execution_count": null,
   "metadata": {},
   "outputs": [
    {
     "name": "stdout",
     "output_type": "stream",
     "text": [
      "      year region_name    VHI\n",
      "547   2015   Вінницька  42.01\n",
      "550   2019   Вінницька  29.06\n",
      "615   2020   Вінницька  46.08\n",
      "616   2020   Вінницька  44.74\n",
      "617   2020   Вінницька  40.14\n",
      "...    ...         ...    ...\n",
      "3275  2018   Волинська  50.04\n",
      "3276  2017   Волинська  47.22\n",
      "3277  2018   Волинська  48.51\n",
      "3278  2017   Волинська  43.25\n",
      "3279  2018   Волинська  50.15\n",
      "\n",
      "[624 rows x 3 columns]\n"
     ]
    }
   ],
   "source": [
    "#Ряд VHI за вказаний діапазон років для вказаних областей:\n",
    "def vhi_by_range_of_years(df, region_names, start_year, end_year):\n",
    "    result = df[(df['region_name'].isin(region_names)) & (df['year'] >= start_year) & (df['year'] <= end_year)][['year', 'region_name', 'VHI']]\n",
    "    return result\n",
    "\n",
    "vhi_range = vhi_by_range_of_years(df, [\"Вінницька\", \"Волинська\"], '2015', '2020')\n",
    "print(vhi_range)"
   ]
  },
  {
   "cell_type": "code",
   "execution_count": 74,
   "metadata": {},
   "outputs": [
    {
     "name": "stdout",
     "output_type": "stream",
     "text": [
      "2000\n",
      "__________________________________________________\n",
      "       year  region_name    VHI\n",
      "1643   2000    Вінницька  12.91\n",
      "1657   2000    Вінницька  11.38\n",
      "1675   2000    Вінницька  11.25\n",
      "1690   2000    Вінницька  12.26\n",
      "1692   2000    Вінницька  11.28\n",
      "1765   2000    Вінницька  14.20\n",
      "19179  2000     Київська  12.51\n",
      "19181  2000     Київська  10.60\n",
      "19182  2000     Київська  11.20\n",
      "19183  2000     Київська  12.32\n",
      "19184  2000     Київська  14.65\n",
      "21339  2000         Київ  12.28\n",
      "21360  2000         Київ  10.94\n",
      "21361  2000         Київ   9.25\n",
      "21362  2000         Київ   7.56\n",
      "21363  2000         Київ   6.71\n",
      "21364  2000         Київ   6.58\n",
      "21365  2000         Київ   6.49\n",
      "21366  2000         Київ   7.81\n",
      "21367  2000         Київ  12.76\n",
      "21368  2000         Київ  14.89\n",
      "41732  2000   Харківська   9.45\n",
      "41835  2000   Харківська  14.29\n",
      "41951  2000   Харківська  11.45\n",
      "41962  2000   Харківська  11.33\n",
      "41974  2000   Харківська   9.73\n",
      "42060  2000   Харківська  14.61\n",
      "42088  2000   Харківська   9.36\n",
      "49797  2000    Черкаська  14.64\n",
      "49799  2000    Черкаська  11.82\n",
      "49800  2000    Черкаська  10.81\n",
      "49801  2000    Черкаська  10.68\n",
      "49802  2000    Черкаська  12.30\n",
      "49803  2000    Черкаська  14.24\n",
      "55083  2000  Севастополь   9.69\n",
      "55084  2000  Севастополь   9.50\n",
      "55097  2000  Севастополь  12.77\n",
      "55119  2000  Севастополь  11.20\n",
      "55171  2000  Севастополь  11.36\n",
      "55182  2000  Севастополь  13.14\n",
      "55210  2000  Севастополь   8.14\n"
     ]
    }
   ],
   "source": [
    "#Для всього набору даних виявити роки, протягом яких екстремальні посухи торкнулися більше вказаного відсотка областей:\n",
    "def extreme_drought_years(df, threshold_percentage=20):\n",
    "\n",
    "    total_regions = df['region_name'].nunique()\n",
    "    threshold = (threshold_percentage / 100) * total_regions\n",
    "    extreme_droughts = df[df['VHI'] < 15]\n",
    "    droughts_by_year = extreme_droughts.groupby('year')['region_name'].nunique()\n",
    "    extreme_years = droughts_by_year[droughts_by_year >= threshold].index.tolist()\n",
    "    extreme_drought_data = extreme_droughts[extreme_droughts['year'].isin(extreme_years)][['year', 'region_name', 'VHI']]\n",
    "    \n",
    "    return extreme_years, extreme_drought_data\n",
    "\n",
    "extreme_years, extreme_droughts = extreme_drought_years(df, threshold_percentage=20)\n",
    "print(*extreme_years)\n",
    "print('_'*50)\n",
    "print(extreme_droughts)"
   ]
  }
 ],
 "metadata": {
  "kernelspec": {
   "display_name": "base",
   "language": "python",
   "name": "python3"
  },
  "language_info": {
   "codemirror_mode": {
    "name": "ipython",
    "version": 3
   },
   "file_extension": ".py",
   "mimetype": "text/x-python",
   "name": "python",
   "nbconvert_exporter": "python",
   "pygments_lexer": "ipython3",
   "version": "3.12.7"
  }
 },
 "nbformat": 4,
 "nbformat_minor": 2
}
